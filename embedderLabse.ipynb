{
 "cells": [
  {
   "cell_type": "markdown",
   "metadata": {
    "id": "XWnBXaP2sC7D"
   },
   "source": [
    "Para realizar los embeddings con LABSE necesitamos instalar las siguientes dependencias."
   ]
  },
  {
   "cell_type": "code",
   "execution_count": null,
   "metadata": {
    "id": "0vfU12224LfR"
   },
   "outputs": [],
   "source": [
    "!pip install -U sentence-transformers\n",
    "!pip install ipython-autotime"
   ]
  },
  {
   "cell_type": "markdown",
   "metadata": {
    "id": "EA2TFqi9r-ke"
   },
   "source": [
    "Importamos pandas y la interfaz SentenceTransformer de HuggingFace"
   ]
  },
  {
   "cell_type": "code",
   "execution_count": null,
   "metadata": {
    "id": "qsavEKj94ZCK"
   },
   "outputs": [],
   "source": [
    "from sentence_transformers import SentenceTransformer\n",
    "import pandas as pd\n"
   ]
  },
  {
   "cell_type": "markdown",
   "metadata": {
    "id": "I3uVXi_WsZ1G"
   },
   "source": [
    "Cargamos el modelo preentrenado de LABSE"
   ]
  },
  {
   "cell_type": "code",
   "execution_count": 42,
   "metadata": {
    "colab": {
     "base_uri": "https://localhost:8080/"
    },
    "id": "v_Vayor1_3O9",
    "outputId": "79fe278e-94b8-4209-9c86-397d52e4df50"
   },
   "outputs": [
    {
     "name": "stdout",
     "output_type": "stream",
     "text": [
      "time: 17.5 s (started: 2021-11-26 12:31:20 +00:00)\n"
     ]
    }
   ],
   "source": [
    "model = SentenceTransformer('sentence-transformers/LaBSE')"
   ]
  },
  {
   "cell_type": "markdown",
   "metadata": {
    "id": "25d1-ifXsfvG"
   },
   "source": [
    "Cargamos el dataset de películas y creamos un dataframe de forma que tenga una sola colmna, las descripciones"
   ]
  },
  {
   "cell_type": "code",
   "execution_count": null,
   "metadata": {
    "id": "mo1J95Uc4OLD"
   },
   "outputs": [],
   "source": [
    "url = 'https://raw.githubusercontent.com/garcibo/TFG/main/movieDatasetClean.csv'\n",
    "df = pd.read_csv(url)\n",
    "movies=df[df['description'].notnull()]\n",
    "sentences =df[df['description'].notnull()]['description'].values.tolist()\n"
   ]
  },
  {
   "cell_type": "markdown",
   "metadata": {
    "id": "Wc6ogqhRs1ah"
   },
   "source": [
    "Generamos los embeddings."
   ]
  },
  {
   "cell_type": "code",
   "execution_count": 43,
   "metadata": {
    "colab": {
     "base_uri": "https://localhost:8080/"
    },
    "id": "QJaeqVNKBWYf",
    "outputId": "c6da2eda-2d5a-44fc-f139-1776294b8eb7"
   },
   "outputs": [
    {
     "name": "stdout",
     "output_type": "stream",
     "text": [
      "The autotime extension is already loaded. To reload it, use:\n",
      "  %reload_ext autotime\n",
      "time: 57min 34s (started: 2021-11-26 12:31:43 +00:00)\n"
     ]
    }
   ],
   "source": [
    "%load_ext autotime\n",
    "embeddings = model.encode(sentences)\n",
    "#print(embeddings)"
   ]
  },
  {
   "cell_type": "markdown",
   "metadata": {
    "id": "2-eneTmXs5j8"
   },
   "source": [
    "Guardamos el resultado de añadir los embeddings a nuestro DF original en un fichero CSV"
   ]
  },
  {
   "cell_type": "code",
   "execution_count": 48,
   "metadata": {
    "colab": {
     "base_uri": "https://localhost:8080/"
    },
    "id": "9s_u0TH2CqGB",
    "outputId": "b5ce0878-485e-4c99-e643-936e292e44fa"
   },
   "outputs": [
    {
     "name": "stdout",
     "output_type": "stream",
     "text": [
      "time: 18.1 s (started: 2021-11-26 14:38:19 +00:00)\n"
     ]
    }
   ],
   "source": [
    "result = movies.join( pd.DataFrame(embeddings))\n",
    "result.to_csv(\"movieslasbe.csv\")"
   ]
  }
 ],
 "metadata": {
  "colab": {
   "collapsed_sections": [],
   "name": "labse.ipynb",
   "provenance": []
  },
  "kernelspec": {
   "display_name": "Python 3",
   "language": "python",
   "name": "python3"
  },
  "language_info": {
   "codemirror_mode": {
    "name": "ipython",
    "version": 3
   },
   "file_extension": ".py",
   "mimetype": "text/x-python",
   "name": "python",
   "nbconvert_exporter": "python",
   "pygments_lexer": "ipython3",
   "version": "3.8.3"
  }
 },
 "nbformat": 4,
 "nbformat_minor": 1
}
