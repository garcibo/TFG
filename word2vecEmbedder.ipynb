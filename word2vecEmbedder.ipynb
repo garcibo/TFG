{
 "cells": [
  {
   "cell_type": "markdown",
   "id": "educated-attack",
   "metadata": {},
   "source": [
    "La indicación \n",
    "\n",
    "    %%script false --no-raise-error\n",
    "\n",
    "Implica que esa celda de código no va a ser ejecutada.\n",
    "\n",
    "Estas celdas suponen un tiempo de 15h. \n",
    "\n",
    "En vez de ejecutarlas cada vez que quiero recomendar, leo un CSV con los embeddings procesados en una ejecución anterior."
   ]
  },
  {
   "cell_type": "code",
   "execution_count": 1,
   "id": "steady-grade",
   "metadata": {},
   "outputs": [],
   "source": [
    "import pandas as pd\n",
    "import numpy as np\n",
    "from gensim.models import KeyedVectors #Importar modelo desde fichero\n",
    "from gensim.models import Word2Vec #Importar word2vec\n",
    "from datetime import datetime #tracking de tiempo en realizar de embeddings\n",
    "from scipy import spatial #similitud del coseno\n",
    "from operator import itemgetter # comparación de tuplas"
   ]
  },
  {
   "cell_type": "markdown",
   "id": "congressional-smell",
   "metadata": {},
   "source": [
    "Cargamos nuestro dataset de películas, y por si acaso (no debería haber ninguna), eliminamos las películas con descripciones nulas."
   ]
  },
  {
   "cell_type": "code",
   "execution_count": 2,
   "id": "loaded-airport",
   "metadata": {},
   "outputs": [],
   "source": [
    "df = pd.read_csv(\"movieDatasetClean.csv\")\n",
    "df= df[df['description'].notnull()]"
   ]
  },
  {
   "cell_type": "markdown",
   "id": "brave-electronics",
   "metadata": {},
   "source": [
    "Realizamos un corpus de palabras que contenga todas las reviews de nuestro dataset separadas en palabras.\n",
    "\n",
    "También obtenemos el modelo básico de word2vec \"GoogleNews-vectors-negative300\". Este modelo fue entrenado por Google usando un dataset de Google News con alrededor de 100 mil millones de palabras.\n",
    "\n",
    "Este modelo contiene vectores 300-dimensonales para 3 millones de palabras."
   ]
  },
  {
   "cell_type": "code",
   "execution_count": 3,
   "id": "foreign-child",
   "metadata": {},
   "outputs": [],
   "source": [
    "%%script false --no-raise-error\n",
    "corpus = []\n",
    "for words in df['description']:\n",
    "    corpus.append(words.split())\n",
    "    \n",
    "print(\"Comienzo: \",datetime.now())\n",
    "model = KeyedVectors.load_word2vec_format('GoogleNews-vectors-negative300.bin.gz', binary=True)\n",
    "print(\"Cargado: \",datetime.now())"
   ]
  },
  {
   "cell_type": "markdown",
   "id": "suspected-milwaukee",
   "metadata": {},
   "source": [
    "Como hemos explicado antes, word2vec devuelve un vector dado una palabra.\n",
    "\n",
    "Por lo tanto, para interpretar las decripciones de las películas podemos realizar la media entre todos los vectores \"palabra\" de cada descripción y ver si los resultados son prometedores."
   ]
  },
  {
   "cell_type": "code",
   "execution_count": 4,
   "id": "natural-power",
   "metadata": {},
   "outputs": [],
   "source": [
    "%%script false --no-raise-error\n",
    "def get_mean_vector(model, words):\n",
    "    words = [word for word in words if word in list(model.index_to_key)]\n",
    "    if len(words) >= 1:\n",
    "        return np.mean(model[words], axis=0)\n",
    "    else:\n",
    "        return []"
   ]
  },
  {
   "cell_type": "markdown",
   "id": "regular-pledge",
   "metadata": {},
   "source": [
    "Esta es la celda de código más pesada, donde obtendríamos los vectores medios de cada descripción."
   ]
  },
  {
   "cell_type": "code",
   "execution_count": 5,
   "id": "religious-whole",
   "metadata": {},
   "outputs": [],
   "source": [
    "%%script false --no-raise-error\n",
    "i=0\n",
    "vectors=[]\n",
    "for doc in corpus:\n",
    "    vec = get_mean_vector(model, doc)\n",
    "    if len(vec) > 0:\n",
    "        vectors.append(vec)\n",
    "        if i%500==0:\n",
    "            print(i,datetime.now())\n",
    "        i=i+1\n",
    "    else:\n",
    "        vectors.append([])\n",
    "\n",
    "vectors_full=pd.DataFrame(vectors)\n",
    "vectors_movie=df.join(vectors_full)"
   ]
  },
  {
   "cell_type": "markdown",
   "id": "naked-gospel",
   "metadata": {},
   "source": [
    "Llegados a este punto podemos importar los vectores que habíamos calculado en una ejecución anterior y empezar a ver los resultados."
   ]
  },
  {
   "cell_type": "code",
   "execution_count": 6,
   "id": "chief-location",
   "metadata": {},
   "outputs": [],
   "source": [
    "#vectors_movie.to_csv(\"movies_word2vec\")\n",
    "movie_ds=pd.read_csv(\"movies_word2vec.csv\")\n",
    "\n",
    "vectors_movie=movie_ds.iloc[: , 14:314]"
   ]
  },
  {
   "cell_type": "markdown",
   "id": "dangerous-joint",
   "metadata": {},
   "source": [
    "Como medida de similitud entre descripciones de películas (vectores), voy a usar la distancia del coseno.\n",
    "\n",
    "La distancia del coseno se suele utilizar como media de similitud en procesamiento de texto.\n",
    "\n",
    "La similitud del coseno tiene en cuenta la orientación de los vectores y no la magnitud."
   ]
  },
  {
   "cell_type": "code",
   "execution_count": 7,
   "id": "fitting-accreditation",
   "metadata": {},
   "outputs": [],
   "source": [
    "def get_film_similarity(id1,id2):\n",
    "    return 1 - spatial.distance.cosine(vectors_movie.iloc[id1],vectors_movie.iloc[id2] )"
   ]
  },
  {
   "cell_type": "markdown",
   "id": "coated-equity",
   "metadata": {},
   "source": [
    "Habiendo descrito nuestra medida de distancia podemos, dada una película, buscar las películas que tienen descripciones más parecidas."
   ]
  },
  {
   "cell_type": "code",
   "execution_count": 8,
   "id": "likely-fireplace",
   "metadata": {},
   "outputs": [],
   "source": [
    "def recomend5(id_movie):\n",
    "    toplist=[]\n",
    "    for i in range (0,14209):\n",
    "        if (i==id_movie):\n",
    "            continue\n",
    "        similarity=get_film_similarity(i,id_movie)\n",
    "        toplist.append(tuple((similarity, i)))\n",
    "\n",
    "    toplist.sort(key=itemgetter(0),reverse=True)\n",
    "    print(\"Dada la pelicula \",movie_ds.iloc[id_movie][\"title\"])\n",
    "    i=1\n",
    "    for peli in toplist[0:5]:\n",
    "        print(\"Recomendación\", i,\"(\",int(peli[0]*100),\"%):\",movie_ds.iloc[peli[1]][\"title\"],\"(genero:\",movie_ds.iloc[peli[1]][\"genre\"],\"nota:\",movie_ds.iloc[peli[1]][\"rating\"],\")\")\n",
    "        i+=1"
   ]
  },
  {
   "cell_type": "markdown",
   "id": "straight-verification",
   "metadata": {},
   "source": [
    "Habiendo visto todo el código, vamos a comprobar las recomendaciones de varias películas"
   ]
  },
  {
   "cell_type": "code",
   "execution_count": 9,
   "id": "distributed-elite",
   "metadata": {},
   "outputs": [
    {
     "name": "stdout",
     "output_type": "stream",
     "text": [
      "Dada la pelicula  The Godfather\n",
      "Recomendación 1 ( 85 %): The Godfather: Part III (genero:  Action nota: 7.7 )\n",
      "Recomendación 2 ( 85 %): This So-Called Disaster: Sam Shepard Directs the Late Henry Moss (genero:  Documentary nota: tbd )\n",
      "Recomendación 3 ( 84 %): The Godfather: Part II (genero:  Drama nota: 9.0 )\n",
      "Recomendación 4 ( 84 %): Hello Lonesome (genero:  Drama nota: tbd )\n",
      "Recomendación 5 ( 83 %): Gonzo: The Life and Work of Dr. Hunter S. Thompson (genero:  Biography nota: 7.7 )\n"
     ]
    }
   ],
   "source": [
    "recomend5(1) #dado el padrino"
   ]
  },
  {
   "cell_type": "code",
   "execution_count": 10,
   "id": "grand-seafood",
   "metadata": {},
   "outputs": [
    {
     "name": "stdout",
     "output_type": "stream",
     "text": [
      "Dada la pelicula  Avengers: Endgame\n",
      "Recomendación 1 ( 80 %): Captain Marvel (genero:  Action nota: 2.9 )\n",
      "Recomendación 2 ( 79 %): Avengers: Age of Ultron (genero:  Action nota: 7.0 )\n",
      "Recomendación 3 ( 79 %): Avengers: Infinity War (genero:  Action nota: 8.6 )\n",
      "Recomendación 4 ( 78 %): Harry Potter and the Deathly Hallows: Part I (genero:  Action nota: 7.6 )\n",
      "Recomendación 5 ( 78 %): Captain America: Civil War (genero:  Action nota: 8.2 )\n"
     ]
    }
   ],
   "source": [
    "recomend5(1878) #dado los vengadores"
   ]
  },
  {
   "cell_type": "code",
   "execution_count": 11,
   "id": "economic-expert",
   "metadata": {},
   "outputs": [
    {
     "name": "stdout",
     "output_type": "stream",
     "text": [
      "Dada la pelicula  Star Wars: Episode IV - A New Hope\n",
      "Recomendación 1 ( 85 %): I Am Not a Serial Killer (genero:  Thriller nota: 7.0 )\n",
      "Recomendación 2 ( 84 %): The Myth of Fingerprints (genero:  Drama nota: tbd )\n",
      "Recomendación 3 ( 84 %): Yves Saint Laurent (genero:  Biography nota: 5.7 )\n",
      "Recomendación 4 ( 84 %): Star Wars: Episode V - The Empire Strikes Back (genero:  Action nota: 9.0 )\n",
      "Recomendación 5 ( 82 %): Blame (genero:  Drama nota: 7.8 )\n"
     ]
    }
   ],
   "source": [
    "recomend5(267) #ambas star wars"
   ]
  },
  {
   "cell_type": "code",
   "execution_count": 12,
   "id": "sublime-questionnaire",
   "metadata": {},
   "outputs": [
    {
     "name": "stdout",
     "output_type": "stream",
     "text": [
      "Dada la pelicula  Goldfinger\n",
      "Recomendación 1 ( 69 %): What If (genero:  Drama nota: 7.2 )\n",
      "Recomendación 2 ( 61 %): On Her Majesty's Secret Service (genero:  Action nota: 7.4 )\n",
      "Recomendación 3 ( 61 %): Moonraker (genero:  Action nota: 5.8 )\n",
      "Recomendación 4 ( 60 %): The Dictator (genero:  Comedy nota: 6.4 )\n",
      "Recomendación 5 ( 58 %): Stonehearst Asylum (genero:  Thriller nota: 6.8 )\n"
     ]
    }
   ],
   "source": [
    "recomend5(444) "
   ]
  },
  {
   "cell_type": "code",
   "execution_count": 13,
   "id": "forced-professor",
   "metadata": {},
   "outputs": [
    {
     "name": "stdout",
     "output_type": "stream",
     "text": [
      "Dada la pelicula  Harry Potter and the Deathly Hallows: Part 2\n",
      "Recomendación 1 ( 87 %): Hellboy II: The Golden Army (genero:  Action nota: 7.4 )\n",
      "Recomendación 2 ( 86 %): Aquaman (genero:  Action nota: 6.9 )\n",
      "Recomendación 3 ( 86 %): Avengers: Age of Ultron (genero:  Action nota: 7.0 )\n",
      "Recomendación 4 ( 86 %): The Hudsucker Proxy (genero:  Drama nota: 7.2 )\n",
      "Recomendación 5 ( 86 %): Blizzard of Souls (genero:  Drama nota: tbd )\n"
     ]
    }
   ],
   "source": [
    "recomend5(630) "
   ]
  },
  {
   "cell_type": "code",
   "execution_count": 14,
   "id": "spoken-partner",
   "metadata": {},
   "outputs": [
    {
     "name": "stdout",
     "output_type": "stream",
     "text": [
      "Dada la pelicula  Jumanji: Welcome to the Jungle\n",
      "Recomendación 1 ( 77 %): 101 Dalmatians (genero:  Adventure nota: 6.0 )\n",
      "Recomendación 2 ( 77 %): Marcello Mastroianni: I Remember (genero:  Biography nota: 5.5 )\n",
      "Recomendación 3 ( 77 %): Working Girls (genero:  Drama nota: tbd )\n",
      "Recomendación 4 ( 76 %): Thinner (genero:  Fantasy nota: 8.1 )\n",
      "Recomendación 5 ( 76 %): Cameraperson (genero:  Documentary nota: 7.0 )\n"
     ]
    }
   ],
   "source": [
    "recomend5(7700) "
   ]
  }
 ],
 "metadata": {
  "kernelspec": {
   "display_name": "Python 3",
   "language": "python",
   "name": "python3"
  },
  "language_info": {
   "codemirror_mode": {
    "name": "ipython",
    "version": 3
   },
   "file_extension": ".py",
   "mimetype": "text/x-python",
   "name": "python",
   "nbconvert_exporter": "python",
   "pygments_lexer": "ipython3",
   "version": "3.8.3"
  }
 },
 "nbformat": 4,
 "nbformat_minor": 5
}
